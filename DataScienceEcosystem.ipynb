{
 "cells": [
  {
   "cell_type": "markdown",
   "id": "63d6a7eb-238b-475e-8a9d-f5f464b90e0a",
   "metadata": {},
   "source": [
    "# Data Science Tools and Ecosystem"
   ]
  },
  {
   "cell_type": "markdown",
   "id": "651a7b6c-b68d-464f-b2a3-56057b9c7864",
   "metadata": {},
   "source": [
    "##### In this notebook, Data Science Tools and Ecosystem are summarized."
   ]
  },
  {
   "cell_type": "markdown",
   "id": "3d785389-2874-47fa-a1a2-aa3bd84790a1",
   "metadata": {},
   "source": [
    "__Objectives:__"
   ]
  },
  {
   "cell_type": "markdown",
   "id": "e28a5662-bc7c-4315-9e21-89c118f05663",
   "metadata": {},
   "source": [
    "* List popular languages for Data Science\n",
    "* List popular libraries for Data Science\n",
    "* List popular open source Data Science tools"
   ]
  },
  {
   "cell_type": "markdown",
   "id": "1a46355d-61ee-4beb-b4f9-acbd8dece07c",
   "metadata": {},
   "source": [
    "## Author"
   ]
  },
  {
   "cell_type": "markdown",
   "id": "e9afcaee-fcb4-483a-8fb9-1156f79610f2",
   "metadata": {},
   "source": [
    "##### Nitin Sharma"
   ]
  },
  {
   "attachments": {},
   "cell_type": "markdown",
   "id": "6bd317d3-e142-472c-81de-885d70d901ef",
   "metadata": {},
   "source": [
    "##### Some of the popular languages that Data Scientists use are:em"
   ]
  },
  {
   "cell_type": "markdown",
   "id": "52f8ef2c-b293-48d9-b16c-80c925ea1a6e",
   "metadata": {},
   "source": [
    "1. Python\n",
    "2. R\n",
    "3. SQL\n",
    "4. Java"
   ]
  },
  {
   "cell_type": "markdown",
   "id": "59ac3f69-28ad-4c8d-9ebe-c77a859fb246",
   "metadata": {},
   "source": [
    "##### Some of the commonly used libraries used by Data Scientists include:"
   ]
  },
  {
   "cell_type": "markdown",
   "id": "1b0a8ca3-79c0-4ec7-8fc1-97d477246f4d",
   "metadata": {},
   "source": [
    "1. Pandas\n",
    "2. NumPy\n",
    "3. Matpotlib\n",
    "4. SciPy"
   ]
  },
  {
   "attachments": {},
   "cell_type": "markdown",
   "id": "bf269a0e-4270-46b8-85fe-df0912ffb2da",
   "metadata": {},
   "source": [
    "| Data Science Tools |\n",
    "| ------------------ |\n",
    "| Jupyter |\n",
    "| RStudio |\n",
    "| Zeppelin |"
   ]
  },
  {
   "cell_type": "markdown",
   "id": "bade2327-ed42-436e-8228-8431b076229c",
   "metadata": {},
   "source": [
    "### Below are a few examples of evaluating arithmetic expressions in Python"
   ]
  },
  {
   "cell_type": "code",
   "execution_count": 3,
   "id": "c248666a-ec72-43cd-9933-0e4d3e27b1f4",
   "metadata": {},
   "outputs": [],
   "source": [
    "# This a simple arithmetic expression to mutiply then add integers"
   ]
  },
  {
   "cell_type": "code",
   "execution_count": 4,
   "id": "35911327-48f4-48f7-928f-cb7a99861ae7",
   "metadata": {},
   "outputs": [
    {
     "data": {
      "text/plain": [
       "17"
      ]
     },
     "execution_count": 4,
     "metadata": {},
     "output_type": "execute_result"
    }
   ],
   "source": [
    "(3*4)+5"
   ]
  },
  {
   "cell_type": "code",
   "execution_count": 7,
   "id": "8b53a724-58bb-49d4-84b6-fcecd2f24d0b",
   "metadata": {},
   "outputs": [],
   "source": [
    "# This will convert 200 minutes to hours by diving by 60"
   ]
  },
  {
   "cell_type": "code",
   "execution_count": 8,
   "id": "d66876be-20a4-435c-b14b-9c5d5df94915",
   "metadata": {},
   "outputs": [
    {
     "data": {
      "text/plain": [
       "3.3333333333333335"
      ]
     },
     "execution_count": 8,
     "metadata": {},
     "output_type": "execute_result"
    }
   ],
   "source": [
    "200/60"
   ]
  },
  {
   "cell_type": "code",
   "execution_count": null,
   "id": "bc6b861a-548a-48f2-9e88-1b834aeacc4b",
   "metadata": {},
   "outputs": [],
   "source": []
  }
 ],
 "metadata": {
  "kernelspec": {
   "display_name": "Python 3 (ipykernel)",
   "language": "python",
   "name": "python3"
  },
  "language_info": {
   "codemirror_mode": {
    "name": "ipython",
    "version": 3
   },
   "file_extension": ".py",
   "mimetype": "text/x-python",
   "name": "python",
   "nbconvert_exporter": "python",
   "pygments_lexer": "ipython3",
   "version": "3.11.9"
  }
 },
 "nbformat": 4,
 "nbformat_minor": 5
}
